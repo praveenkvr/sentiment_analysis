{
 "cells": [
  {
   "cell_type": "code",
   "execution_count": 1,
   "id": "mighty-semiconductor",
   "metadata": {},
   "outputs": [
    {
     "name": "stderr",
     "output_type": "stream",
     "text": [
      "[nltk_data] Downloading package wordnet to\n",
      "[nltk_data]     C:\\Users\\prave\\AppData\\Roaming\\nltk_data...\n",
      "[nltk_data]   Package wordnet is already up-to-date!\n"
     ]
    },
    {
     "data": {
      "text/plain": [
       "True"
      ]
     },
     "execution_count": 1,
     "metadata": {},
     "output_type": "execute_result"
    }
   ],
   "source": [
    "import os\n",
    "import re\n",
    "import tensorflow as tf\n",
    "import numpy as np\n",
    "import pandas as pd\n",
    "\n",
    "import nltk\n",
    "from nltk.corpus import stopwords\n",
    "from nltk.stem import WordNetLemmatizer\n",
    "\n",
    "from tensorflow.keras.preprocessing.sequence import  pad_sequences\n",
    "from tensorflow.keras.preprocessing.text import Tokenizer\n",
    "from sklearn.model_selection import train_test_split\n",
    "\n",
    "from langdetect import detect\n",
    "\n",
    "tf.config.experimental.list_physical_devices('GPU')\n",
    "nltk.download('wordnet')"
   ]
  },
  {
   "cell_type": "code",
   "execution_count": 2,
   "id": "atlantic-quick",
   "metadata": {},
   "outputs": [
    {
     "data": {
      "text/html": [
       "<div>\n",
       "<style scoped>\n",
       "    .dataframe tbody tr th:only-of-type {\n",
       "        vertical-align: middle;\n",
       "    }\n",
       "\n",
       "    .dataframe tbody tr th {\n",
       "        vertical-align: top;\n",
       "    }\n",
       "\n",
       "    .dataframe thead th {\n",
       "        text-align: right;\n",
       "    }\n",
       "</style>\n",
       "<table border=\"1\" class=\"dataframe\">\n",
       "  <thead>\n",
       "    <tr style=\"text-align: right;\">\n",
       "      <th></th>\n",
       "      <th>label</th>\n",
       "      <th>text</th>\n",
       "    </tr>\n",
       "  </thead>\n",
       "  <tbody>\n",
       "    <tr>\n",
       "      <th>0</th>\n",
       "      <td>0</td>\n",
       "      <td>@switchfoot http://twitpic.com/2y1zl - Awww, t...</td>\n",
       "    </tr>\n",
       "    <tr>\n",
       "      <th>1</th>\n",
       "      <td>0</td>\n",
       "      <td>is upset that he can't update his Facebook by ...</td>\n",
       "    </tr>\n",
       "    <tr>\n",
       "      <th>2</th>\n",
       "      <td>0</td>\n",
       "      <td>@Kenichan I dived many times for the ball. Man...</td>\n",
       "    </tr>\n",
       "    <tr>\n",
       "      <th>3</th>\n",
       "      <td>0</td>\n",
       "      <td>my whole body feels itchy and like its on fire</td>\n",
       "    </tr>\n",
       "    <tr>\n",
       "      <th>4</th>\n",
       "      <td>0</td>\n",
       "      <td>@nationwideclass no, it's not behaving at all....</td>\n",
       "    </tr>\n",
       "    <tr>\n",
       "      <th>...</th>\n",
       "      <td>...</td>\n",
       "      <td>...</td>\n",
       "    </tr>\n",
       "    <tr>\n",
       "      <th>1599995</th>\n",
       "      <td>4</td>\n",
       "      <td>Just woke up. Having no school is the best fee...</td>\n",
       "    </tr>\n",
       "    <tr>\n",
       "      <th>1599996</th>\n",
       "      <td>4</td>\n",
       "      <td>TheWDB.com - Very cool to hear old Walt interv...</td>\n",
       "    </tr>\n",
       "    <tr>\n",
       "      <th>1599997</th>\n",
       "      <td>4</td>\n",
       "      <td>Are you ready for your MoJo Makeover? Ask me f...</td>\n",
       "    </tr>\n",
       "    <tr>\n",
       "      <th>1599998</th>\n",
       "      <td>4</td>\n",
       "      <td>Happy 38th Birthday to my boo of alll time!!! ...</td>\n",
       "    </tr>\n",
       "    <tr>\n",
       "      <th>1599999</th>\n",
       "      <td>4</td>\n",
       "      <td>happy #charitytuesday @theNSPCC @SparksCharity...</td>\n",
       "    </tr>\n",
       "  </tbody>\n",
       "</table>\n",
       "<p>1600000 rows × 2 columns</p>\n",
       "</div>"
      ],
      "text/plain": [
       "         label                                               text\n",
       "0            0  @switchfoot http://twitpic.com/2y1zl - Awww, t...\n",
       "1            0  is upset that he can't update his Facebook by ...\n",
       "2            0  @Kenichan I dived many times for the ball. Man...\n",
       "3            0    my whole body feels itchy and like its on fire \n",
       "4            0  @nationwideclass no, it's not behaving at all....\n",
       "...        ...                                                ...\n",
       "1599995      4  Just woke up. Having no school is the best fee...\n",
       "1599996      4  TheWDB.com - Very cool to hear old Walt interv...\n",
       "1599997      4  Are you ready for your MoJo Makeover? Ask me f...\n",
       "1599998      4  Happy 38th Birthday to my boo of alll time!!! ...\n",
       "1599999      4  happy #charitytuesday @theNSPCC @SparksCharity...\n",
       "\n",
       "[1600000 rows x 2 columns]"
      ]
     },
     "execution_count": 2,
     "metadata": {},
     "output_type": "execute_result"
    }
   ],
   "source": [
    "data_path = os.path.join('dataset', 'data.csv')\n",
    "data = pd.read_csv(data_path, names=['label', 'time', 'date', 'query', 'username', 'text'])\n",
    "data = data[['label', 'text']]\n",
    "data"
   ]
  },
  {
   "cell_type": "code",
   "execution_count": 3,
   "id": "initial-consensus",
   "metadata": {},
   "outputs": [],
   "source": [
    "# data_path = os.path.join('dataset', 'processed_data.csv')\n",
    "# data = pd.read_csv(data_path)\n",
    "# data"
   ]
  },
  {
   "cell_type": "code",
   "execution_count": 4,
   "id": "rural-launch",
   "metadata": {},
   "outputs": [
    {
     "data": {
      "text/plain": [
       "0    800000\n",
       "4    800000\n",
       "Name: label, dtype: int64"
      ]
     },
     "execution_count": 4,
     "metadata": {},
     "output_type": "execute_result"
    }
   ],
   "source": [
    "data.isnull().sum()\n",
    "data['label'].value_counts()"
   ]
  },
  {
   "cell_type": "code",
   "execution_count": 5,
   "id": "japanese-computer",
   "metadata": {},
   "outputs": [
    {
     "data": {
      "text/plain": [
       "0    800000\n",
       "1    800000\n",
       "Name: label, dtype: int64"
      ]
     },
     "execution_count": 5,
     "metadata": {},
     "output_type": "execute_result"
    }
   ],
   "source": [
    "data.loc[(data['label']==4), 'label'] = 1\n",
    "data['label'].value_counts()"
   ]
  },
  {
   "cell_type": "code",
   "execution_count": 6,
   "id": "stuffed-isolation",
   "metadata": {},
   "outputs": [
    {
     "data": {
      "text/html": [
       "<div>\n",
       "<style scoped>\n",
       "    .dataframe tbody tr th:only-of-type {\n",
       "        vertical-align: middle;\n",
       "    }\n",
       "\n",
       "    .dataframe tbody tr th {\n",
       "        vertical-align: top;\n",
       "    }\n",
       "\n",
       "    .dataframe thead th {\n",
       "        text-align: right;\n",
       "    }\n",
       "</style>\n",
       "<table border=\"1\" class=\"dataframe\">\n",
       "  <thead>\n",
       "    <tr style=\"text-align: right;\">\n",
       "      <th></th>\n",
       "      <th>label</th>\n",
       "      <th>text</th>\n",
       "    </tr>\n",
       "  </thead>\n",
       "  <tbody>\n",
       "    <tr>\n",
       "      <th>0</th>\n",
       "      <td>0</td>\n",
       "      <td>@switchfoot http://twitpic.com/2y1zl - Awww, t...</td>\n",
       "    </tr>\n",
       "    <tr>\n",
       "      <th>1</th>\n",
       "      <td>0</td>\n",
       "      <td>is upset that he can't update his Facebook by ...</td>\n",
       "    </tr>\n",
       "    <tr>\n",
       "      <th>2</th>\n",
       "      <td>0</td>\n",
       "      <td>@Kenichan I dived many times for the ball. Man...</td>\n",
       "    </tr>\n",
       "    <tr>\n",
       "      <th>3</th>\n",
       "      <td>0</td>\n",
       "      <td>my whole body feels itchy and like its on fire</td>\n",
       "    </tr>\n",
       "    <tr>\n",
       "      <th>4</th>\n",
       "      <td>0</td>\n",
       "      <td>@nationwideclass no, it's not behaving at all....</td>\n",
       "    </tr>\n",
       "    <tr>\n",
       "      <th>...</th>\n",
       "      <td>...</td>\n",
       "      <td>...</td>\n",
       "    </tr>\n",
       "    <tr>\n",
       "      <th>1599995</th>\n",
       "      <td>1</td>\n",
       "      <td>Just woke up. Having no school is the best fee...</td>\n",
       "    </tr>\n",
       "    <tr>\n",
       "      <th>1599996</th>\n",
       "      <td>1</td>\n",
       "      <td>TheWDB.com - Very cool to hear old Walt interv...</td>\n",
       "    </tr>\n",
       "    <tr>\n",
       "      <th>1599997</th>\n",
       "      <td>1</td>\n",
       "      <td>Are you ready for your MoJo Makeover? Ask me f...</td>\n",
       "    </tr>\n",
       "    <tr>\n",
       "      <th>1599998</th>\n",
       "      <td>1</td>\n",
       "      <td>Happy 38th Birthday to my boo of alll time!!! ...</td>\n",
       "    </tr>\n",
       "    <tr>\n",
       "      <th>1599999</th>\n",
       "      <td>1</td>\n",
       "      <td>happy #charitytuesday @theNSPCC @SparksCharity...</td>\n",
       "    </tr>\n",
       "  </tbody>\n",
       "</table>\n",
       "<p>1600000 rows × 2 columns</p>\n",
       "</div>"
      ],
      "text/plain": [
       "         label                                               text\n",
       "0            0  @switchfoot http://twitpic.com/2y1zl - Awww, t...\n",
       "1            0  is upset that he can't update his Facebook by ...\n",
       "2            0  @Kenichan I dived many times for the ball. Man...\n",
       "3            0    my whole body feels itchy and like its on fire \n",
       "4            0  @nationwideclass no, it's not behaving at all....\n",
       "...        ...                                                ...\n",
       "1599995      1  Just woke up. Having no school is the best fee...\n",
       "1599996      1  TheWDB.com - Very cool to hear old Walt interv...\n",
       "1599997      1  Are you ready for your MoJo Makeover? Ask me f...\n",
       "1599998      1  Happy 38th Birthday to my boo of alll time!!! ...\n",
       "1599999      1  happy #charitytuesday @theNSPCC @SparksCharity...\n",
       "\n",
       "[1600000 rows x 2 columns]"
      ]
     },
     "execution_count": 6,
     "metadata": {},
     "output_type": "execute_result"
    }
   ],
   "source": [
    "# remove non string rows\n",
    "data = data[data['text'].apply(lambda x: isinstance(x, str))]\n",
    "data"
   ]
  },
  {
   "cell_type": "code",
   "execution_count": 7,
   "id": "starting-registration",
   "metadata": {},
   "outputs": [],
   "source": [
    "def clean_data(text):\n",
    "    text = re.sub(r'@[^\\s]+', '', text, re.UNICODE) # remove @...\n",
    "    text = re.sub(r'((www\\.[^\\s]+)|(https?://[^\\s]+))',' ',text, re.UNICODE) # remove www\n",
    "    text = re.sub(r'[^\\w\\s]', '', text, re.UNICODE) # remove special characters\n",
    "    text = re.sub(r'[0-9]+', '', text, re.UNICODE) # remove numbers\n",
    "    return text"
   ]
  },
  {
   "cell_type": "code",
   "execution_count": 8,
   "id": "proud-approval",
   "metadata": {},
   "outputs": [],
   "source": [
    "data['text'] = data['text'].apply(clean_data)"
   ]
  },
  {
   "cell_type": "code",
   "execution_count": 9,
   "id": "flush-tenant",
   "metadata": {},
   "outputs": [],
   "source": [
    "stp_wrds = set(stopwords.words('english'))\n",
    "lemmatizer = WordNetLemmatizer()\n",
    "\n",
    "def process_text(text):\n",
    "    text = text.lower()\n",
    "    text = text.split()\n",
    "    text = [word for word in text if word not in stp_wrds]\n",
    "    text = [lemmatizer.lemmatize(word) for word in text]\n",
    "    text = [lemmatizer.lemmatize(word, 'v') for word in text]\n",
    "    text = \" \".join(text)\n",
    "    return text\n",
    "\n",
    "data['text'] = data['text'].apply(process_text)"
   ]
  },
  {
   "cell_type": "code",
   "execution_count": 10,
   "id": "attempted-meeting",
   "metadata": {},
   "outputs": [],
   "source": [
    "data.to_csv('dataset/processed_data.csv', header=True, index=False)"
   ]
  },
  {
   "cell_type": "code",
   "execution_count": 11,
   "id": "textile-webcam",
   "metadata": {},
   "outputs": [
    {
     "data": {
      "text/html": [
       "<div>\n",
       "<style scoped>\n",
       "    .dataframe tbody tr th:only-of-type {\n",
       "        vertical-align: middle;\n",
       "    }\n",
       "\n",
       "    .dataframe tbody tr th {\n",
       "        vertical-align: top;\n",
       "    }\n",
       "\n",
       "    .dataframe thead th {\n",
       "        text-align: right;\n",
       "    }\n",
       "</style>\n",
       "<table border=\"1\" class=\"dataframe\">\n",
       "  <thead>\n",
       "    <tr style=\"text-align: right;\">\n",
       "      <th></th>\n",
       "      <th>label</th>\n",
       "      <th>text</th>\n",
       "    </tr>\n",
       "  </thead>\n",
       "  <tbody>\n",
       "    <tr>\n",
       "      <th>0</th>\n",
       "      <td>0</td>\n",
       "      <td>awww thats bummer shoulda get david carr third...</td>\n",
       "    </tr>\n",
       "    <tr>\n",
       "      <th>1</th>\n",
       "      <td>0</td>\n",
       "      <td>upset cant update facebook texting might cry r...</td>\n",
       "    </tr>\n",
       "    <tr>\n",
       "      <th>2</th>\n",
       "      <td>0</td>\n",
       "      <td>dive many time ball manage save rest go bind</td>\n",
       "    </tr>\n",
       "    <tr>\n",
       "      <th>3</th>\n",
       "      <td>0</td>\n",
       "      <td>whole body feel itchy like fire</td>\n",
       "    </tr>\n",
       "    <tr>\n",
       "      <th>4</th>\n",
       "      <td>0</td>\n",
       "      <td>behave im mad cant see</td>\n",
       "    </tr>\n",
       "    <tr>\n",
       "      <th>...</th>\n",
       "      <td>...</td>\n",
       "      <td>...</td>\n",
       "    </tr>\n",
       "    <tr>\n",
       "      <th>1599995</th>\n",
       "      <td>1</td>\n",
       "      <td>wake school best feel ever</td>\n",
       "    </tr>\n",
       "    <tr>\n",
       "      <th>1599996</th>\n",
       "      <td>1</td>\n",
       "      <td>thewdbcom cool hear old walt interview</td>\n",
       "    </tr>\n",
       "    <tr>\n",
       "      <th>1599997</th>\n",
       "      <td>1</td>\n",
       "      <td>ready mojo makeover ask detail</td>\n",
       "    </tr>\n",
       "    <tr>\n",
       "      <th>1599998</th>\n",
       "      <td>1</td>\n",
       "      <td>happy th birthday boo alll time tupac amaru sh...</td>\n",
       "    </tr>\n",
       "    <tr>\n",
       "      <th>1599999</th>\n",
       "      <td>1</td>\n",
       "      <td>happy charitytuesday</td>\n",
       "    </tr>\n",
       "  </tbody>\n",
       "</table>\n",
       "<p>1600000 rows × 2 columns</p>\n",
       "</div>"
      ],
      "text/plain": [
       "         label                                               text\n",
       "0            0  awww thats bummer shoulda get david carr third...\n",
       "1            0  upset cant update facebook texting might cry r...\n",
       "2            0       dive many time ball manage save rest go bind\n",
       "3            0                    whole body feel itchy like fire\n",
       "4            0                             behave im mad cant see\n",
       "...        ...                                                ...\n",
       "1599995      1                         wake school best feel ever\n",
       "1599996      1             thewdbcom cool hear old walt interview\n",
       "1599997      1                     ready mojo makeover ask detail\n",
       "1599998      1  happy th birthday boo alll time tupac amaru sh...\n",
       "1599999      1                               happy charitytuesday\n",
       "\n",
       "[1600000 rows x 2 columns]"
      ]
     },
     "execution_count": 11,
     "metadata": {},
     "output_type": "execute_result"
    }
   ],
   "source": [
    "data"
   ]
  },
  {
   "cell_type": "code",
   "execution_count": 12,
   "id": "independent-legend",
   "metadata": {},
   "outputs": [],
   "source": [
    "train, test = train_test_split(data, test_size=0.2)\n",
    "test, val =  train_test_split(test, test_size=0.5)"
   ]
  },
  {
   "cell_type": "code",
   "execution_count": 13,
   "id": "figured-productivity",
   "metadata": {},
   "outputs": [],
   "source": [
    "VOCAB_SIZE= 300000\n",
    "MAX_LEN = 150\n",
    "BUFFER_SIZE = 400\n",
    "BATCH_SIZE = 128\n",
    "EMBEDDING_SIZE=300"
   ]
  },
  {
   "cell_type": "code",
   "execution_count": 14,
   "id": "initial-finish",
   "metadata": {},
   "outputs": [],
   "source": [
    "tokenizer = Tokenizer(num_words=VOCAB_SIZE, oov_token='<oov>')\n",
    "tokenizer.fit_on_texts(train['text'])\n",
    "\n",
    "train_seq = tokenizer.texts_to_sequences(train['text'])\n",
    "X_train = pad_sequences(train_seq, maxlen=MAX_LEN, padding='post')\n",
    "\n",
    "test_seq = tokenizer.texts_to_sequences(test['text'])\n",
    "X_test = pad_sequences(test_seq, maxlen=MAX_LEN, padding='post')\n",
    "\n",
    "val_seq = tokenizer.texts_to_sequences(val['text'])\n",
    "X_val = pad_sequences(val_seq, maxlen=MAX_LEN, padding='post')"
   ]
  },
  {
   "cell_type": "code",
   "execution_count": 15,
   "id": "appropriate-williams",
   "metadata": {},
   "outputs": [],
   "source": [
    "Y_train = train['label']\n",
    "Y_test = test['label']\n",
    "Y_val = val['label']\n",
    "\n",
    "Y_train = np.expand_dims(Y_train, [1])\n",
    "Y_val = np.expand_dims(Y_val, [1])\n",
    "Y_test = np.expand_dims(Y_test, [1])\n",
    "\n",
    "train_dataset = tf.data.Dataset.from_tensor_slices((X_train, Y_train))\n",
    "train_dataset = train_dataset.shuffle(BUFFER_SIZE).batch(BATCH_SIZE)\n",
    "\n",
    "val_dataset = tf.data.Dataset.from_tensor_slices((X_val, Y_val))\n",
    "val_dataset = val_dataset.shuffle(BUFFER_SIZE).batch(BATCH_SIZE)\n",
    "\n",
    "test_dataset = tf.data.Dataset.from_tensor_slices((X_test, Y_test))\n",
    "test_dataset = val_dataset.shuffle(BUFFER_SIZE).batch(BATCH_SIZE)"
   ]
  },
  {
   "cell_type": "code",
   "execution_count": 16,
   "id": "concerned-heading",
   "metadata": {},
   "outputs": [],
   "source": [
    "EMBEDDING_FILE =  os.path.join('dataset', 'glove', 'glove.6B.300d.txt')\n",
    "\n",
    "def get_glove_embeddings(file_name):\n",
    "    embeddings_map = dict()\n",
    "    with open(file_name,  encoding=\"utf8\") as f:\n",
    "        for line in f:\n",
    "            values = line.split()\n",
    "            word = values[0]\n",
    "            embeddings = np.asarray(values[1:], dtype='float32')\n",
    "            embeddings_map[word] = embeddings\n",
    "    return embeddings_map"
   ]
  },
  {
   "cell_type": "code",
   "execution_count": 17,
   "id": "collected-marks",
   "metadata": {},
   "outputs": [
    {
     "name": "stdout",
     "output_type": "stream",
     "text": [
      "71016\n",
      "343728\n"
     ]
    }
   ],
   "source": [
    "def build_embeddings(vocab_size, tokenizer):\n",
    "    match_counter = 0\n",
    "    embeddings = np.zeros((vocab_size, EMBEDDING_SIZE))\n",
    "    emb_map = get_glove_embeddings(EMBEDDING_FILE)\n",
    "    for word, i in tokenizer.word_index.items():\n",
    "        if word in emb_map:\n",
    "            embeddings[i] = emb_map.get(word)\n",
    "            match_counter += 1\n",
    "    return embeddings, match_counter\n",
    "\n",
    "embedding_weights, match_counter = build_embeddings(len(tokenizer.word_index)+1, tokenizer)\n",
    "print(match_counter)\n",
    "print(len(tokenizer.word_index))"
   ]
  },
  {
   "cell_type": "code",
   "execution_count": 18,
   "id": "relative-universe",
   "metadata": {},
   "outputs": [],
   "source": [
    "class MultiHeadAttention(tf.keras.layers.Layer):\n",
    "    \n",
    "    def __init__(self, num_heads, dims):\n",
    "        super(MultiHeadAttention, self).__init__()\n",
    "        \n",
    "        self.num_heads = num_heads\n",
    "        self.dims = dims\n",
    "        \n",
    "        self.depth = self.dims // self.num_heads\n",
    "        \n",
    "        self.kw = tf.keras.layers.Dense(self.dims)\n",
    "        self.qw = tf.keras.layers.Dense(self.dims)\n",
    "        self.vw = tf.keras.layers.Dense(self.dims)\n",
    "        \n",
    "        self.dense = tf.keras.layers.Dense(self.dims)\n",
    "        \n",
    "    def split_heads(self, inputs):\n",
    "        batch_size = tf.shape(inputs)[0]\n",
    "        reshaped = tf.reshape(inputs, (batch_size, -1, self.num_heads, self.depth))\n",
    "        transposed = tf.transpose(reshaped, perm=[0, 2, 1, 3])\n",
    "        return transposed\n",
    "        \n",
    "    def call(self, k, v, q):\n",
    "        k = self.kw(k)\n",
    "        q = self.qw(q)\n",
    "        v = self.vw(v)\n",
    "        \n",
    "        # multi head\n",
    "        k = self.split_heads(k)\n",
    "        q = self.split_heads(q)\n",
    "        v = self.split_heads(v)\n",
    "        \n",
    "        ## self attention\n",
    "        \n",
    "        mult_kq = tf.matmul(q, k, transpose_b=True)\n",
    "        normalized_mult = mult_kq / tf.cast(self.depth, tf.float32)\n",
    "        attention_weights = tf.nn.softmax(normalized_mult, axis=-1)\n",
    "        output = tf.matmul(attention_weights, v)\n",
    "\n",
    "        scaled_attention = tf.transpose(output, perm=[0, 2, 1, 3])\n",
    "        \n",
    "        batch_size = tf.shape(q)[0]\n",
    "        concat_attention = tf.reshape(scaled_attention, (batch_size, -1, self.dims))\n",
    "        output = self.dense(concat_attention)\n",
    "        \n",
    "        return output\n"
   ]
  },
  {
   "cell_type": "code",
   "execution_count": 19,
   "id": "selective-piece",
   "metadata": {},
   "outputs": [],
   "source": [
    "class TokenAndPositionEmbeddings(tf.keras.layers.Layer):\n",
    "    \n",
    "    def __init__(self, maxlen, emb_dim, vocab_size, weights):\n",
    "        super(TokenAndPositionEmbeddings, self).__init__()\n",
    "        \n",
    "        self.embds = tf.keras.layers.Embedding(input_dim=vocab_size, output_dim=emb_dim, weights=[weights])\n",
    "        self.pos_embs = tf.keras.layers.Embedding(input_dim=maxlen, output_dim=emb_dim)\n",
    "    \n",
    "    def call(self, inputs):\n",
    "        max_len = tf.shape(inputs)[-1]\n",
    "        positions = tf.range(start=0, limit=max_len, delta=1)\n",
    "        positions = self.pos_embs(positions)\n",
    "        embeddings = self.embds(inputs)\n",
    "        return embeddings + positions"
   ]
  },
  {
   "cell_type": "code",
   "execution_count": 20,
   "id": "passing-chair",
   "metadata": {},
   "outputs": [],
   "source": [
    "class Transformer(tf.keras.layers.Layer):\n",
    "    \"\"\"\n",
    "    Transfomer Encoder with Multi-head attention (6 heads)\n",
    "    \"\"\"\n",
    "    def __init__(self, dims, num_heads, ff_dim, rate=0.1):\n",
    "        super(Transformer, self).__init__()\n",
    "        \n",
    "        self.mha = MultiHeadAttention(num_heads, dims)\n",
    "        self.ff = tf.keras.Sequential([\n",
    "            tf.keras.layers.Dense(ff_dim, activation='relu'),\n",
    "            tf.keras.layers.Dense(dims)\n",
    "        ])\n",
    "        \n",
    "        self.layer_norm1 = tf.keras.layers.LayerNormalization(epsilon=1e-6)\n",
    "        self.layer_norm2 = tf.keras.layers.LayerNormalization(epsilon=1e-6)\n",
    "        \n",
    "        self.dropout1 = tf.keras.layers.Dropout(rate)\n",
    "        self.dropout2 = tf.keras.layers.Dropout(rate)\n",
    "    \n",
    "    def call(self, inputs, training):\n",
    "        attention_output = self.mha(inputs, inputs, inputs)\n",
    "        attention_output = self.dropout1(attention_output, training=training)\n",
    "        layer_norm1 = self.layer_norm1(inputs + attention_output)\n",
    "        \n",
    "        ff_output = self.ff(layer_norm1)\n",
    "        ff_output = self.dropout2(ff_output, training=training)\n",
    "        return self.layer_norm2(layer_norm1 + ff_output)\n",
    "        "
   ]
  },
  {
   "cell_type": "code",
   "execution_count": 21,
   "id": "impressive-staff",
   "metadata": {},
   "outputs": [],
   "source": [
    "def build_multi_head_attention(embedding_weights, input_shape=(MAX_LEN,)):\n",
    "    inputs = tf.keras.layers.Input(shape=input_shape)\n",
    "    x = TokenAndPositionEmbeddings(MAX_LEN, 300, len(tokenizer.word_index)+1, embedding_weights)(inputs)\n",
    "    x = Transformer(300, num_heads=6, ff_dim=512)(x)\n",
    "    x = tf.keras.layers.GlobalAveragePooling1D()(x)\n",
    "    x = tf.keras.layers.Dropout(0.1, name=\"drop1\")(x)\n",
    "    x = tf.keras.layers.Dense(32, activation='relu')(x)\n",
    "    x = tf.keras.layers.Dropout(0.1, name=\"drop2\")(x)\n",
    "    x = tf.keras.layers.Dense(1, activation='sigmoid')(x)\n",
    "    \n",
    "    model = tf.keras.Model(inputs=inputs, outputs=x)\n",
    "    return model\n",
    "    "
   ]
  },
  {
   "cell_type": "code",
   "execution_count": 22,
   "id": "sustainable-marking",
   "metadata": {},
   "outputs": [],
   "source": [
    "class BasicAttention(tf.keras.layers.Layer):\n",
    "    \n",
    "    def __init__(self, units):\n",
    "        super(BasicAttention, self).__init__()\n",
    "        \n",
    "        self.w1 = tf.keras.layers.Dense(units)\n",
    "        self.w2 = tf.keras.layers.Dense(units)\n",
    "        \n",
    "        self.v = tf.keras.layers.Dense(1)\n",
    "        \n",
    "    def call(self, features, hidden_state):\n",
    "        \n",
    "        hidden_state_with_axis = tf.expand_dims(hidden_state, 1)\n",
    "        scores = tf.nn.tanh(self.w1(features) + self.w2(hidden_state_with_axis))\n",
    "        attention_weights = tf.nn.softmax(self.v(scores), axis=1)\n",
    "        \n",
    "        context_vector = attention_weights * features\n",
    "        context_vector = tf.reduce_sum(context_vector, axis=1)\n",
    "        \n",
    "        return context_vector, attention_weights"
   ]
  },
  {
   "cell_type": "code",
   "execution_count": 23,
   "id": "sophisticated-professional",
   "metadata": {},
   "outputs": [],
   "source": [
    "def build_lstm_with_attention(embedding_weights, input_shape=(MAX_LEN,)):\n",
    "    \"\"\"\n",
    "    Bi-directional LSTM with Attention\n",
    "    \"\"\"\n",
    "    inp = tf.keras.layers.Input(shape=input_shape)\n",
    "    embedding = tf.keras.layers.Embedding(\n",
    "            len(tokenizer.word_index)+1,\n",
    "            output_dim=300,\n",
    "            weights=[embedding_weights],\n",
    "            input_length=MAX_LEN\n",
    "    )(inp)\n",
    "    \n",
    "    lstm1 = tf.keras.layers.Bidirectional(\n",
    "        tf.keras.layers.LSTM(128, return_sequences=True, activation='tanh')\n",
    "    )(embedding)\n",
    "    \n",
    "    (lstm, forward_h, forward_c, backward_h, backward_d) = tf.keras.layers.Bidirectional(\n",
    "        tf.keras.layers.LSTM(64, return_sequences=True, return_state=True)\n",
    "    )(lstm1)\n",
    "    \n",
    "    hidden_state = tf.keras.layers.Concatenate()([forward_h, backward_h])\n",
    "    context_vector, attention_weights = BasicAttention(16)(lstm, hidden_state)\n",
    "    \n",
    "    dense1 = tf.keras.layers.Dense(64, activation='relu')(context_vector)\n",
    "    dropout = tf.keras.layers.Dropout(0.5)(dense1)\n",
    "    output = tf.keras.layers.Dense(1, activation='sigmoid')(dropout)\n",
    "    \n",
    "    model = tf.keras.Model(inputs=inp, outputs=output)\n",
    "    return model\n",
    "    "
   ]
  },
  {
   "cell_type": "code",
   "execution_count": 24,
   "id": "endangered-domain",
   "metadata": {},
   "outputs": [
    {
     "name": "stdout",
     "output_type": "stream",
     "text": [
      "Model: \"functional_1\"\n",
      "__________________________________________________________________________________________________\n",
      "Layer (type)                    Output Shape         Param #     Connected to                     \n",
      "==================================================================================================\n",
      "input_1 (InputLayer)            [(None, 150)]        0                                            \n",
      "__________________________________________________________________________________________________\n",
      "embedding (Embedding)           (None, 150, 300)     103118700   input_1[0][0]                    \n",
      "__________________________________________________________________________________________________\n",
      "bidirectional (Bidirectional)   (None, 150, 256)     439296      embedding[0][0]                  \n",
      "__________________________________________________________________________________________________\n",
      "bidirectional_1 (Bidirectional) [(None, 150, 128), ( 164352      bidirectional[0][0]              \n",
      "__________________________________________________________________________________________________\n",
      "concatenate (Concatenate)       (None, 128)          0           bidirectional_1[0][1]            \n",
      "                                                                 bidirectional_1[0][3]            \n",
      "__________________________________________________________________________________________________\n",
      "basic_attention (BasicAttention ((None, 128), (None, 4145        bidirectional_1[0][0]            \n",
      "                                                                 concatenate[0][0]                \n",
      "__________________________________________________________________________________________________\n",
      "dense_3 (Dense)                 (None, 64)           8256        basic_attention[0][0]            \n",
      "__________________________________________________________________________________________________\n",
      "dropout (Dropout)               (None, 64)           0           dense_3[0][0]                    \n",
      "__________________________________________________________________________________________________\n",
      "dense_4 (Dense)                 (None, 1)            65          dropout[0][0]                    \n",
      "==================================================================================================\n",
      "Total params: 103,734,814\n",
      "Trainable params: 103,734,814\n",
      "Non-trainable params: 0\n",
      "__________________________________________________________________________________________________\n"
     ]
    }
   ],
   "source": [
    "#model = build_multi_head_attention(embedding_weights, input_shape=(MAX_LEN,))\n",
    "model = build_lstm_with_attention(embedding_weights, input_shape=(MAX_LEN,))\n",
    "model.summary()\n",
    "\n",
    "loss_fn = tf.keras.losses.BinaryCrossentropy()\n",
    "bce_metric = tf.keras.metrics.BinaryAccuracy()\n",
    "optimizer = tf.keras.optimizers.Adam()\n",
    "\n",
    "bce_val_metric = tf.keras.metrics.BinaryAccuracy()\n",
    "\n",
    "pbar = tf.keras.utils.Progbar(len(train_dataset))"
   ]
  },
  {
   "cell_type": "code",
   "execution_count": 25,
   "id": "sunrise-aaron",
   "metadata": {},
   "outputs": [
    {
     "data": {
      "image/png": "[encoded data removed]",
      "text/plain": [
       "<IPython.core.display.Image object>"
      ]
     },
     "execution_count": 25,
     "metadata": {},
     "output_type": "execute_result"
    }
   ],
   "source": [
    "tf.keras.utils.plot_model(model, show_shapes=True, dpi=90)"
   ]
  },
  {
   "cell_type": "code",
   "execution_count": 26,
   "id": "psychological-respect",
   "metadata": {},
   "outputs": [],
   "source": [
    "@tf.function\n",
    "def train_step(X_train, Y_train, model):\n",
    "    with tf.GradientTape() as tape:\n",
    "        predictions = model(X_train, training=True)\n",
    "        loss = loss_fn(Y_train, predictions)\n",
    "    gradients = tape.gradient(loss, model.trainable_variables)\n",
    "    optimizer.apply_gradients(zip(gradients, model.trainable_variables))\n",
    "    bce_metric.update_state(Y_train, predictions)\n",
    "    return loss\n",
    "\n",
    "@tf.function    \n",
    "def val_step(X_val, Y_val, model):\n",
    "    predictions = model(X_val, training=False)\n",
    "    loss = loss_fn(Y_val, predictions)\n",
    "    bce_val_metric.update_state(Y_val, predictions)\n",
    "    return loss"
   ]
  },
  {
   "cell_type": "code",
   "execution_count": 27,
   "id": "ambient-direction",
   "metadata": {},
   "outputs": [],
   "source": [
    "EPOCHS = 10\n",
    "\n",
    "def train_loop():\n",
    "    print('Starting training...')\n",
    "    losses = []\n",
    "    acc = []\n",
    "    for e in range(EPOCHS):\n",
    "\n",
    "        for j, (X_train, Y_train) in enumerate(train_dataset):\n",
    "            loss = train_step(X_train, Y_train, model)\n",
    "            pbar.update(j+1)\n",
    "        \n",
    "        losses.append(loss)\n",
    "        acc.append(bce_metric.result())\n",
    "        \n",
    "        print(f\"Training -- {e + 1} : loss:{loss}  accuracy:{bce_metric.result()}\")\n",
    "        bce_metric.reset_states()\n",
    "            \n",
    "        if e % 5 == 0:\n",
    "            model.save('transformer_weights')\n",
    "        \n",
    "        for k, (X_val, Y_val) in enumerate(val_dataset):\n",
    "            val_loss = val_step(X_val, Y_val, model)\n",
    "            \n",
    "        print(f\"Validation --{e+1} loss:{val_loss} accuracy:{bce_val_metric.result()}\")\n",
    "        bce_val_metric.reset_states()\n",
    "                \n",
    "    model.save('transformer_weights')"
   ]
  },
  {
   "cell_type": "code",
   "execution_count": 28,
   "id": "fantastic-twelve",
   "metadata": {},
   "outputs": [],
   "source": [
    "test_bce_metric = tf.keras.metrics.BinaryAccuracy()\n",
    "\n",
    "def evaluate():\n",
    "    for i, (X_test, Y_test) in enumerate(test_dataset):\n",
    "        predictions = model.predict(X_test)\n",
    "        test_bce_metric.update_state(Y_test, predictions)\n",
    "        print(f\"Evalucation accurcy:{test_bce_metric.result()}\")\n",
    "        test_bce_metric.reset_states()"
   ]
  },
  {
   "cell_type": "code",
   "execution_count": null,
   "id": "national-recorder",
   "metadata": {},
   "outputs": [
    {
     "name": "stdout",
     "output_type": "stream",
     "text": [
      "Starting training...\n",
      " 1668/10000 [====>.........................] - ETA: 1:33:18"
     ]
    }
   ],
   "source": [
    "train_loop()"
   ]
  },
  {
   "cell_type": "code",
   "execution_count": null,
   "id": "detailed-lightning",
   "metadata": {},
   "outputs": [],
   "source": []
  }
 ],
 "metadata": {
  "kernelspec": {
   "display_name": "Python 3",
   "language": "python",
   "name": "python3"
  },
  "language_info": {
   "codemirror_mode": {
    "name": "ipython",
    "version": 3
   },
   "file_extension": ".py",
   "mimetype": "text/x-python",
   "name": "python",
   "nbconvert_exporter": "python",
   "pygments_lexer": "ipython3",
   "version": "3.8.5"
  }
 },
 "nbformat": 4,
 "nbformat_minor": 5
}
